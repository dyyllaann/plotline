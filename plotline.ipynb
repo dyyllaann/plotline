{
 "cells": [
  {
   "cell_type": "markdown",
   "id": "aa29fef5",
   "metadata": {},
   "source": [
    "# Plotline\n",
    "\n",
    "## Steps\n",
    "1. Gather/create resources\n",
    "2. RGB threshold\n",
    "    - Create virtual object for each object found \n",
    "3. Panorama/stitching"
   ]
  },
  {
   "cell_type": "code",
   "execution_count": 4,
   "id": "69aa4d65",
   "metadata": {},
   "outputs": [
    {
     "name": "stdout",
     "output_type": "stream",
     "text": [
      "Ready to run! B)\n"
     ]
    }
   ],
   "source": [
    "print(\"Ready to run! B)\")"
   ]
  }
 ],
 "metadata": {
  "kernelspec": {
   "display_name": "Python 3",
   "language": "python",
   "name": "python3"
  },
  "language_info": {
   "codemirror_mode": {
    "name": "ipython",
    "version": 3
   },
   "file_extension": ".py",
   "mimetype": "text/x-python",
   "name": "python",
   "nbconvert_exporter": "python",
   "pygments_lexer": "ipython3",
   "version": "3.9.6"
  }
 },
 "nbformat": 4,
 "nbformat_minor": 5
}
